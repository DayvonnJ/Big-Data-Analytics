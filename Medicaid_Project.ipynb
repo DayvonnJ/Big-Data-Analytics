{
 "cells": [
  {
   "cell_type": "markdown",
   "id": "19c90514",
   "metadata": {},
   "source": [
    "# Medicaid Project"
   ]
  },
  {
   "cell_type": "code",
   "execution_count": 1,
   "id": "082f5142",
   "metadata": {},
   "outputs": [],
   "source": [
    "import pandas as pd\n",
    "import numpy as np\n",
    "\n",
    "# packages for preprocessing\n",
    "from sklearn.model_selection import train_test_split\n",
    "from sklearn.utils import resample\n",
    "\n",
    "# packages for model\n",
    "from sklearn.ensemble import GradientBoostingRegressor\n",
    "\n",
    "# packages for model evaluation\n",
    "from sklearn.metrics import accuracy_score, confusion_matrix, plot_confusion_matrix\n",
    "from sklearn.metrics import precision_recall_fscore_support as score\n",
    "from sklearn.metrics import roc_auc_score\n",
    "\n",
    "from sklearn.inspection import PartialDependenceDisplay, plot_partial_dependence\n",
    "\n",
    "import matplotlib.pyplot as plt"
   ]
  },
  {
   "cell_type": "markdown",
   "id": "853405a0",
   "metadata": {},
   "source": [
    "## 1. Read in data"
   ]
  },
  {
   "cell_type": "code",
   "execution_count": 2,
   "id": "af25638b",
   "metadata": {},
   "outputs": [],
   "source": [
    "df = pd.read_csv(\"final.csv\")"
   ]
  },
  {
   "cell_type": "code",
   "execution_count": 3,
   "id": "470f506a",
   "metadata": {},
   "outputs": [
    {
     "data": {
      "text/html": [
       "<div>\n",
       "<style scoped>\n",
       "    .dataframe tbody tr th:only-of-type {\n",
       "        vertical-align: middle;\n",
       "    }\n",
       "\n",
       "    .dataframe tbody tr th {\n",
       "        vertical-align: top;\n",
       "    }\n",
       "\n",
       "    .dataframe thead th {\n",
       "        text-align: right;\n",
       "    }\n",
       "</style>\n",
       "<table border=\"1\" class=\"dataframe\">\n",
       "  <thead>\n",
       "    <tr style=\"text-align: right;\">\n",
       "      <th></th>\n",
       "      <th>FC</th>\n",
       "      <th>OT</th>\n",
       "      <th>JC</th>\n",
       "      <th>E</th>\n",
       "      <th>A</th>\n",
       "      <th>D</th>\n",
       "      <th>I</th>\n",
       "      <th>FJ</th>\n",
       "      <th>IE</th>\n",
       "      <th>F</th>\n",
       "      <th>...</th>\n",
       "      <th>duration</th>\n",
       "      <th>target</th>\n",
       "      <th>age_lastyear</th>\n",
       "      <th>GENDER</th>\n",
       "      <th>HHSIZE</th>\n",
       "      <th>num_kids_lastyear</th>\n",
       "      <th>novehicle</th>\n",
       "      <th>work_income</th>\n",
       "      <th>nonwork_income</th>\n",
       "      <th>total_income</th>\n",
       "    </tr>\n",
       "  </thead>\n",
       "  <tbody>\n",
       "    <tr>\n",
       "      <th>0</th>\n",
       "      <td>1</td>\n",
       "      <td>0</td>\n",
       "      <td>1</td>\n",
       "      <td>0</td>\n",
       "      <td>0</td>\n",
       "      <td>0</td>\n",
       "      <td>0</td>\n",
       "      <td>0</td>\n",
       "      <td>0</td>\n",
       "      <td>0</td>\n",
       "      <td>...</td>\n",
       "      <td>3.0</td>\n",
       "      <td>1</td>\n",
       "      <td>40.0</td>\n",
       "      <td>F</td>\n",
       "      <td>4.0</td>\n",
       "      <td>3.0</td>\n",
       "      <td>1</td>\n",
       "      <td>0.0</td>\n",
       "      <td>29472.0</td>\n",
       "      <td>29472.0</td>\n",
       "    </tr>\n",
       "    <tr>\n",
       "      <th>1</th>\n",
       "      <td>1</td>\n",
       "      <td>0</td>\n",
       "      <td>1</td>\n",
       "      <td>0</td>\n",
       "      <td>0</td>\n",
       "      <td>0</td>\n",
       "      <td>0</td>\n",
       "      <td>0</td>\n",
       "      <td>0</td>\n",
       "      <td>0</td>\n",
       "      <td>...</td>\n",
       "      <td>3.0</td>\n",
       "      <td>0</td>\n",
       "      <td>32.0</td>\n",
       "      <td>M</td>\n",
       "      <td>1.0</td>\n",
       "      <td>0.0</td>\n",
       "      <td>0</td>\n",
       "      <td>0.0</td>\n",
       "      <td>0.0</td>\n",
       "      <td>0.0</td>\n",
       "    </tr>\n",
       "  </tbody>\n",
       "</table>\n",
       "<p>2 rows × 29 columns</p>\n",
       "</div>"
      ],
      "text/plain": [
       "   FC   OT   JC   E    A    D    I    FJ   IE   F    ...  duration  target  \\\n",
       "0    1    0    1    0    0    0    0    0    0    0  ...       3.0       1   \n",
       "1    1    0    1    0    0    0    0    0    0    0  ...       3.0       0   \n",
       "\n",
       "   age_lastyear  GENDER  HHSIZE  num_kids_lastyear  novehicle  work_income  \\\n",
       "0          40.0       F     4.0                3.0          1          0.0   \n",
       "1          32.0       M     1.0                0.0          0          0.0   \n",
       "\n",
       "   nonwork_income  total_income  \n",
       "0         29472.0       29472.0  \n",
       "1             0.0           0.0  \n",
       "\n",
       "[2 rows x 29 columns]"
      ]
     },
     "execution_count": 3,
     "metadata": {},
     "output_type": "execute_result"
    }
   ],
   "source": [
    "df.head(2)"
   ]
  },
  {
   "cell_type": "markdown",
   "id": "c6434899",
   "metadata": {},
   "source": [
    "## Data Dictionary"
   ]
  },
  {
   "cell_type": "markdown",
   "id": "fc5e647c",
   "metadata": {},
   "source": [
    "1. ['FC ', 'OT ', 'JC ', 'E  ', 'A  ', 'D  ', 'I  ', 'FJ ', 'IE ', 'F  ','FA ', 'B  ', 'AC ', ' C ', 'IC ', 'AH ', ' E ', 'JF ', 'EF '] \n",
    "these columns are binary indicators, suggesting what the type of medcaid program the participant is in. Specifically,\n",
    "\n",
    "           A  Aged\n",
    "           B  Blind\n",
    "           D  Disabled\n",
    "           E  Medically Needy\n",
    "           I  Institutional Medicaid\n",
    "           FC (ACA) Family Care (Only)\n",
    "           JC Jersey Care (Only)\n",
    "           IE Institutional (Medically Needy)\n",
    "           IH Institutional (Assisted Living)\n",
    "           OT Other\n",
    "\n",
    "Some cases have combined programs, Combine The Case Types, e.g., FA - Family Care & Aged\n",
    "   \n",
    "2. 'duration', number of years the participant is in the program (from the starting date to the last applciation date)\n",
    "3. 'age_lastyear', the age of applicant (in the last application year)\n",
    "4. 'GENDER', applicant gender as recorded in the system. F indicates female, M indicates male, there are also empty values, which may indicates other or simply missing.\n",
    "5. 'HHSIZE', household size\n",
    "6. 'num_kids_lastyear', number of kids in the household by the time of the last application\n",
    "7. 'novehicle', a binary indicator suggesting whether the household has no vehicle. The value will be 1 if the household does not have access to a vehicle\n",
    "8. 'work_income', annual income from work (estimated by multiplying each pay check with frequency, the data were messy so some numbers are very large, you may need to decide wether you want to remove outliers)\n",
    "9. 'nonwork_income', annual income from non-work sources, e.g., pension. \n",
    "10. 'total_income', the summation of the work and non-work related income\n",
    "\n",
    "\n",
    "Target variable is the 'target'. It's a binary variable indicating whether the applicant successfully left the program or not. "
   ]
  },
  {
   "cell_type": "markdown",
   "id": "90edbb32",
   "metadata": {},
   "source": [
    "## 2. Data Preprocessing"
   ]
  },
  {
   "cell_type": "code",
   "execution_count": 4,
   "id": "54885e13",
   "metadata": {},
   "outputs": [],
   "source": [
    "# 2.1 Split data into training (80%) and testing (20%) data\n",
    "X = df.drop(\"target\" , axis = 1)\n",
    "y = df[\"target\"]\n",
    "\n",
    "X_train, X_test, y_train, y_test = train_test_split(X, y, test_size=0.2\n",
    "                                                    , random_state=0)"
   ]
  },
  {
   "cell_type": "code",
   "execution_count": 5,
   "id": "35197661",
   "metadata": {},
   "outputs": [
    {
     "data": {
      "text/plain": [
       "FC                   0.000000\n",
       "OT                   0.000000\n",
       "JC                   0.000000\n",
       "E                    0.000000\n",
       "A                    0.000000\n",
       "D                    0.000000\n",
       "I                    0.000000\n",
       "FJ                   0.000000\n",
       "IE                   0.000000\n",
       "F                    0.000000\n",
       "FA                   0.000000\n",
       "B                    0.000000\n",
       "AC                   0.000000\n",
       " C                   0.000000\n",
       "IC                   0.000000\n",
       "AH                   0.000000\n",
       " E                   0.000000\n",
       "JF                   0.000000\n",
       "EF                   0.000000\n",
       "duration             0.000000\n",
       "age_lastyear         0.209350\n",
       "GENDER               0.209011\n",
       "HHSIZE               0.000678\n",
       "num_kids_lastyear    0.000000\n",
       "novehicle            0.000000\n",
       "work_income          0.000000\n",
       "nonwork_income       0.000000\n",
       "total_income         0.000000\n",
       "dtype: float64"
      ]
     },
     "execution_count": 5,
     "metadata": {},
     "output_type": "execute_result"
    }
   ],
   "source": [
    "#2.2 What column in X_train has missing values and what percent have missing values?\n",
    "# show columns with % of missing values\n",
    "X_train.isnull().sum()/len(X_train)"
   ]
  },
  {
   "cell_type": "code",
   "execution_count": 6,
   "id": "3348630e",
   "metadata": {},
   "outputs": [],
   "source": [
    "# Let's drop records with missing values before we develop machine learning models, hint please use the dropna function that comes with pandas dataframe to drop records with missing values (e.g., if you want to drop all records with na values in df dataframe, then the code is df = df.dropna())\n",
    "# your code here to drop na\n",
    "X_train = X_train.dropna()\n",
    "y_train = y_train[X_train.index]"
   ]
  },
  {
   "cell_type": "code",
   "execution_count": 7,
   "id": "bec2db35",
   "metadata": {},
   "outputs": [
    {
     "data": {
      "text/plain": [
       "FC                   0\n",
       "OT                   0\n",
       "JC                   0\n",
       "E                    0\n",
       "A                    0\n",
       "D                    0\n",
       "I                    0\n",
       "FJ                   0\n",
       "IE                   0\n",
       "F                    0\n",
       "FA                   0\n",
       "B                    0\n",
       "AC                   0\n",
       " C                   0\n",
       "IC                   0\n",
       "AH                   0\n",
       " E                   0\n",
       "JF                   0\n",
       "EF                   0\n",
       "duration             0\n",
       "age_lastyear         0\n",
       "GENDER               0\n",
       "HHSIZE               0\n",
       "num_kids_lastyear    0\n",
       "novehicle            0\n",
       "work_income          0\n",
       "nonwork_income       0\n",
       "total_income         0\n",
       "dtype: int64"
      ]
     },
     "execution_count": 7,
     "metadata": {},
     "output_type": "execute_result"
    }
   ],
   "source": [
    "X_train.isnull().sum()"
   ]
  },
  {
   "cell_type": "code",
   "execution_count": 8,
   "id": "c8e304b0",
   "metadata": {},
   "outputs": [],
   "source": [
    "X_train = pd.get_dummies(X_train, drop_first = True)"
   ]
  },
  {
   "cell_type": "code",
   "execution_count": 9,
   "id": "3d3f0ef1",
   "metadata": {},
   "outputs": [
    {
     "data": {
      "text/html": [
       "<div>\n",
       "<style scoped>\n",
       "    .dataframe tbody tr th:only-of-type {\n",
       "        vertical-align: middle;\n",
       "    }\n",
       "\n",
       "    .dataframe tbody tr th {\n",
       "        vertical-align: top;\n",
       "    }\n",
       "\n",
       "    .dataframe thead th {\n",
       "        text-align: right;\n",
       "    }\n",
       "</style>\n",
       "<table border=\"1\" class=\"dataframe\">\n",
       "  <thead>\n",
       "    <tr style=\"text-align: right;\">\n",
       "      <th></th>\n",
       "      <th>FC</th>\n",
       "      <th>OT</th>\n",
       "      <th>JC</th>\n",
       "      <th>E</th>\n",
       "      <th>A</th>\n",
       "      <th>D</th>\n",
       "      <th>I</th>\n",
       "      <th>FJ</th>\n",
       "      <th>IE</th>\n",
       "      <th>F</th>\n",
       "      <th>...</th>\n",
       "      <th>EF</th>\n",
       "      <th>duration</th>\n",
       "      <th>age_lastyear</th>\n",
       "      <th>HHSIZE</th>\n",
       "      <th>num_kids_lastyear</th>\n",
       "      <th>novehicle</th>\n",
       "      <th>work_income</th>\n",
       "      <th>nonwork_income</th>\n",
       "      <th>total_income</th>\n",
       "      <th>GENDER_M</th>\n",
       "    </tr>\n",
       "  </thead>\n",
       "  <tbody>\n",
       "    <tr>\n",
       "      <th>2096</th>\n",
       "      <td>1</td>\n",
       "      <td>0</td>\n",
       "      <td>0</td>\n",
       "      <td>0</td>\n",
       "      <td>0</td>\n",
       "      <td>0</td>\n",
       "      <td>0</td>\n",
       "      <td>0</td>\n",
       "      <td>0</td>\n",
       "      <td>0</td>\n",
       "      <td>...</td>\n",
       "      <td>0</td>\n",
       "      <td>1.0</td>\n",
       "      <td>26.0</td>\n",
       "      <td>4.0</td>\n",
       "      <td>1.0</td>\n",
       "      <td>0</td>\n",
       "      <td>90126.40</td>\n",
       "      <td>0.0</td>\n",
       "      <td>90126.40</td>\n",
       "      <td>0</td>\n",
       "    </tr>\n",
       "    <tr>\n",
       "      <th>1013</th>\n",
       "      <td>1</td>\n",
       "      <td>0</td>\n",
       "      <td>0</td>\n",
       "      <td>0</td>\n",
       "      <td>0</td>\n",
       "      <td>0</td>\n",
       "      <td>0</td>\n",
       "      <td>0</td>\n",
       "      <td>0</td>\n",
       "      <td>0</td>\n",
       "      <td>...</td>\n",
       "      <td>0</td>\n",
       "      <td>3.0</td>\n",
       "      <td>32.0</td>\n",
       "      <td>3.0</td>\n",
       "      <td>1.0</td>\n",
       "      <td>0</td>\n",
       "      <td>43059.38</td>\n",
       "      <td>0.0</td>\n",
       "      <td>43059.38</td>\n",
       "      <td>0</td>\n",
       "    </tr>\n",
       "  </tbody>\n",
       "</table>\n",
       "<p>2 rows × 28 columns</p>\n",
       "</div>"
      ],
      "text/plain": [
       "      FC   OT   JC   E    A    D    I    FJ   IE   F    ...  EF   duration  \\\n",
       "2096    1    0    0    0    0    0    0    0    0    0  ...    0       1.0   \n",
       "1013    1    0    0    0    0    0    0    0    0    0  ...    0       3.0   \n",
       "\n",
       "      age_lastyear  HHSIZE  num_kids_lastyear  novehicle  work_income  \\\n",
       "2096          26.0     4.0                1.0          0     90126.40   \n",
       "1013          32.0     3.0                1.0          0     43059.38   \n",
       "\n",
       "      nonwork_income  total_income  GENDER_M  \n",
       "2096             0.0      90126.40         0  \n",
       "1013             0.0      43059.38         0  \n",
       "\n",
       "[2 rows x 28 columns]"
      ]
     },
     "execution_count": 9,
     "metadata": {},
     "output_type": "execute_result"
    }
   ],
   "source": [
    "X_train.head(2)"
   ]
  },
  {
   "cell_type": "markdown",
   "id": "f3ca1b04",
   "metadata": {},
   "source": [
    "## 3. Data Balancing"
   ]
  },
  {
   "cell_type": "code",
   "execution_count": 10,
   "id": "83760369",
   "metadata": {},
   "outputs": [
    {
     "data": {
      "text/plain": [
       "0    2219\n",
       "1    1472\n",
       "Name: target, dtype: int64"
      ]
     },
     "execution_count": 10,
     "metadata": {},
     "output_type": "execute_result"
    }
   ],
   "source": [
    "#3.1 How many ones (i.e., people who successfulll leave the program) and zeros (i.e., people who are still in the program) are there in your training target?\n",
    "y.value_counts()"
   ]
  },
  {
   "cell_type": "code",
   "execution_count": 11,
   "id": "2391e2f5",
   "metadata": {},
   "outputs": [],
   "source": [
    "# 3.2 The data is unbalanced as there are more zeros than ones. Customize the code to balance the training data using the upsampling method.\n",
    "df_train = X_train.copy()\n",
    "df_train[\"target\"] = y_train\n",
    "\n",
    "df_minority = df_train[df_train[\"target\"] == 1]\n",
    "df_majority = df_train[df_train[\"target\"] == 0]\n",
    "df_upsampled = resample(df_minority, n_samples = len(df_majority), replace=True)\n",
    "df_upsampled = pd.concat([df_upsampled, df_majority])\n",
    "X_train_upsampled = df_upsampled.drop(\"target\", axis = 1)\n",
    "y_train_upsampled = df_upsampled[\"target\"]"
   ]
  },
  {
   "cell_type": "markdown",
   "id": "babf5d71",
   "metadata": {},
   "source": [
    "## 4. Gradient Boosting Classifier Tuning"
   ]
  },
  {
   "cell_type": "markdown",
   "id": "8ebd3592",
   "metadata": {},
   "source": [
    "4.1 Evaluation metrics selection. If Union County director is concerned about both the recall and precision of the model, what metrics do you suggest to use to evaluate model performance?\n",
    "\n",
    "If either the recall or precision is used then it is going to be biased so I suggest the F1 because it is used to include the recall and precision of the model."
   ]
  },
  {
   "cell_type": "markdown",
   "id": "24362a44",
   "metadata": {},
   "source": [
    "4.2 Customize the code to fine tune a gradient boosting classifier given the selected metrics.\n",
    "\n",
    "Please ensure the following hyperparameters are finetuned:\n",
    "1. n_estimators\n",
    "2. max_depth\n",
    "3. learning_rate\n",
    "4. max_features\n",
    "5. min_samples_split"
   ]
  },
  {
   "cell_type": "code",
   "execution_count": 12,
   "id": "0f6b41b2",
   "metadata": {},
   "outputs": [
    {
     "name": "stderr",
     "output_type": "stream",
     "text": [
      "/Library/Frameworks/Python.framework/Versions/3.9/lib/python3.9/site-packages/skopt/optimizer/optimizer.py:449: UserWarning: The objective has been evaluated at this point before.\n",
      "  warnings.warn(\"The objective has been evaluated \"\n",
      "/Library/Frameworks/Python.framework/Versions/3.9/lib/python3.9/site-packages/skopt/optimizer/optimizer.py:449: UserWarning: The objective has been evaluated at this point before.\n",
      "  warnings.warn(\"The objective has been evaluated \"\n",
      "/Library/Frameworks/Python.framework/Versions/3.9/lib/python3.9/site-packages/skopt/optimizer/optimizer.py:449: UserWarning: The objective has been evaluated at this point before.\n",
      "  warnings.warn(\"The objective has been evaluated \"\n",
      "/Library/Frameworks/Python.framework/Versions/3.9/lib/python3.9/site-packages/skopt/optimizer/optimizer.py:449: UserWarning: The objective has been evaluated at this point before.\n",
      "  warnings.warn(\"The objective has been evaluated \"\n",
      "/Library/Frameworks/Python.framework/Versions/3.9/lib/python3.9/site-packages/skopt/optimizer/optimizer.py:449: UserWarning: The objective has been evaluated at this point before.\n",
      "  warnings.warn(\"The objective has been evaluated \"\n"
     ]
    },
    {
     "data": {
      "text/plain": [
       "'Best score=-0.8107'"
      ]
     },
     "execution_count": 12,
     "metadata": {},
     "output_type": "execute_result"
    }
   ],
   "source": [
    "# customize the code.\n",
    "from skopt.space import Real, Categorical, Integer\n",
    "from skopt.utils import use_named_args\n",
    "from skopt import gp_minimize\n",
    "from sklearn.ensemble import GradientBoostingClassifier\n",
    "from sklearn.model_selection import cross_val_score # load gridserach cross validation package\n",
    "\n",
    "space  = [Integer(60,100, name=\"n_estimators\"),\n",
    "          Integer(5, 8, name='max_depth'), #integers\n",
    "          Integer(2, 9, name='max_features'),\n",
    "          Integer(100, 150, name='min_samples_split'),\n",
    "          Real(0.0001, 0.1, name='learning_rate')] \n",
    "\n",
    "gb  =  GradientBoostingClassifier(random_state=0)\n",
    "\n",
    "@use_named_args(space)\n",
    "def objective(**params):\n",
    "    gb.set_params(**params)\n",
    "\n",
    "    return -np.mean(cross_val_score(gb, X_train_upsampled, y_train_upsampled,\n",
    "                                   cv=5, n_jobs=-1,scoring=\"f1\"))\n",
    "\n",
    "gb_gp = gp_minimize(objective, space, n_calls=50, random_state=0)\n",
    "\n",
    "\"Best score=%.4f\" % gb_gp.fun"
   ]
  },
  {
   "cell_type": "code",
   "execution_count": 13,
   "id": "e2544b1b",
   "metadata": {},
   "outputs": [
    {
     "name": "stdout",
     "output_type": "stream",
     "text": [
      "Best parameters:\n",
      "- n_estimators = 100\n",
      "- max_depth=8\n",
      "- max_features=8\n",
      "- min_samples_split=100\n",
      "- learning_rate=0.1\n"
     ]
    }
   ],
   "source": [
    "# 4.3 What are the best combination of the hyperparameter?\n",
    "# below are old codes from class, you need to customize the code.\n",
    "print(\"\"\"Best parameters:\n",
    "- n_estimators = %d\n",
    "- max_depth=%d\n",
    "- max_features=%d\n",
    "- min_samples_split=%d\n",
    "- learning_rate=%s\"\"\" % (gb_gp.x[0], gb_gp.x[1],\n",
    "                            gb_gp.x[2], gb_gp.x[3], gb_gp.x[4]))"
   ]
  },
  {
   "cell_type": "markdown",
   "id": "ee7497dc",
   "metadata": {},
   "source": [
    "## 5. Testing Model Peformance on the Test Dataset"
   ]
  },
  {
   "cell_type": "code",
   "execution_count": 14,
   "id": "9d61e783",
   "metadata": {},
   "outputs": [],
   "source": [
    "# 5.1 drop records with na values in X_test\n",
    "X_test = X_test.dropna()\n",
    "y_test = y_test[X_test.index]\n",
    "X_test = pd.get_dummies(X_test, drop_first = True)"
   ]
  },
  {
   "cell_type": "code",
   "execution_count": 15,
   "id": "59589618",
   "metadata": {},
   "outputs": [
    {
     "data": {
      "text/plain": [
       "GradientBoostingClassifier(max_depth=8, max_features=9, min_samples_split=100)"
      ]
     },
     "execution_count": 15,
     "metadata": {},
     "output_type": "execute_result"
    }
   ],
   "source": [
    "# 5.2 Develop Gradient Boosting Model with the best hyperparameters using the training set\n",
    "best_gb = GradientBoostingClassifier(n_estimators=100,\n",
    "                                     max_depth=8,\n",
    "                                     max_features=9,\n",
    "                                     min_samples_split=100,\n",
    "                                     learning_rate=0.1,)\n",
    "# initialize your gradient boosting model with the hyperparameters you got from 4.3\n",
    "best_gb.fit(X_train_upsampled, y_train_upsampled) \n",
    "# customize inputs so that the model is fitted to your training datasets"
   ]
  },
  {
   "cell_type": "code",
   "execution_count": 16,
   "id": "013d0e5f",
   "metadata": {},
   "outputs": [],
   "source": [
    "# 5.3 Apply the train GBM to test dataset\n",
    "# customize predict function inputs so the model predict outcomes for the testing datasets\n",
    "y_predict = best_gb.predict(X_test)"
   ]
  },
  {
   "cell_type": "markdown",
   "id": "24cbfebb",
   "metadata": {},
   "source": [
    "5.4 Calculate the following evaluation metrics for the model output\n",
    "\n",
    "1. Precision\n",
    "2. Recall\n",
    "3. f1 score\n",
    "4. Confusion matrix\n",
    "4. ROC\n",
    "\n",
    "Do you think the model outfit the training data set? "
   ]
  },
  {
   "cell_type": "code",
   "execution_count": 17,
   "id": "f8af1efc",
   "metadata": {},
   "outputs": [
    {
     "data": {
      "text/html": [
       "<div>\n",
       "<style scoped>\n",
       "    .dataframe tbody tr th:only-of-type {\n",
       "        vertical-align: middle;\n",
       "    }\n",
       "\n",
       "    .dataframe tbody tr th {\n",
       "        vertical-align: top;\n",
       "    }\n",
       "\n",
       "    .dataframe thead th {\n",
       "        text-align: right;\n",
       "    }\n",
       "</style>\n",
       "<table border=\"1\" class=\"dataframe\">\n",
       "  <thead>\n",
       "    <tr style=\"text-align: right;\">\n",
       "      <th></th>\n",
       "      <th>labels</th>\n",
       "      <th>precision</th>\n",
       "      <th>recall</th>\n",
       "      <th>fscore</th>\n",
       "      <th>support</th>\n",
       "    </tr>\n",
       "  </thead>\n",
       "  <tbody>\n",
       "    <tr>\n",
       "      <th>0</th>\n",
       "      <td>0</td>\n",
       "      <td>0.805634</td>\n",
       "      <td>0.785714</td>\n",
       "      <td>0.795549</td>\n",
       "      <td>364</td>\n",
       "    </tr>\n",
       "    <tr>\n",
       "      <th>1</th>\n",
       "      <td>1</td>\n",
       "      <td>0.673640</td>\n",
       "      <td>0.700000</td>\n",
       "      <td>0.686567</td>\n",
       "      <td>230</td>\n",
       "    </tr>\n",
       "  </tbody>\n",
       "</table>\n",
       "</div>"
      ],
      "text/plain": [
       "   labels  precision    recall    fscore  support\n",
       "0       0   0.805634  0.785714  0.795549      364\n",
       "1       1   0.673640  0.700000  0.686567      230"
      ]
     },
     "execution_count": 17,
     "metadata": {},
     "output_type": "execute_result"
    }
   ],
   "source": [
    "# customize the code to get Precsion, Recall, and F1 score\n",
    "precision, recall, fscore, support = score(y_test, y_predict) #support = no. of observations in each category\n",
    "df_rf = pd.DataFrame({\n",
    "    \"labels\":list(range(len(y_test.value_counts().index))),\n",
    "    'precision':precision,\n",
    "    \"recall\": recall,\n",
    "    \"fscore\": fscore,\n",
    "    \"support\": support # number of cases in the category in the observed dataset\n",
    "    \n",
    "})\n",
    "\n",
    "df_rf"
   ]
  },
  {
   "cell_type": "code",
   "execution_count": 18,
   "id": "661eac9c",
   "metadata": {},
   "outputs": [
    {
     "name": "stderr",
     "output_type": "stream",
     "text": [
      "/Library/Frameworks/Python.framework/Versions/3.9/lib/python3.9/site-packages/sklearn/utils/deprecation.py:87: FutureWarning: Function plot_confusion_matrix is deprecated; Function `plot_confusion_matrix` is deprecated in 1.0 and will be removed in 1.2. Use one of the class methods: ConfusionMatrixDisplay.from_predictions or ConfusionMatrixDisplay.from_estimator.\n",
      "  warnings.warn(msg, category=FutureWarning)\n"
     ]
    },
    {
     "data": {
      "image/png": "[encoded data removed]",
      "text/plain": [
       "<Figure size 432x288 with 2 Axes>"
      ]
     },
     "metadata": {
      "needs_background": "light"
     },
     "output_type": "display_data"
    }
   ],
   "source": [
    "# customize the code to get confusion matrix\n",
    "plot_confusion_matrix(best_gb , X_test, y_test)\n",
    "plt.savefig(\"figures/confusion_matrix.pdf\")"
   ]
  },
  {
   "cell_type": "code",
   "execution_count": 19,
   "id": "7cb8e1df",
   "metadata": {},
   "outputs": [
    {
     "data": {
      "text/plain": [
       "0.8194278547539418"
      ]
     },
     "execution_count": 19,
     "metadata": {},
     "output_type": "execute_result"
    }
   ],
   "source": [
    "# customize the code here to get confusion matrix\n",
    "y_predict_proba = best_gb.predict_proba(X_test)\n",
    "roc_auc_score (y_test, y_predict_proba[:,1])"
   ]
  },
  {
   "cell_type": "markdown",
   "id": "9f02c831",
   "metadata": {},
   "source": [
    "## 6 Interprete Model Results"
   ]
  },
  {
   "cell_type": "code",
   "execution_count": 20,
   "id": "a2bcc4f0",
   "metadata": {},
   "outputs": [
    {
     "data": {
      "text/html": [
       "<div>\n",
       "<style scoped>\n",
       "    .dataframe tbody tr th:only-of-type {\n",
       "        vertical-align: middle;\n",
       "    }\n",
       "\n",
       "    .dataframe tbody tr th {\n",
       "        vertical-align: top;\n",
       "    }\n",
       "\n",
       "    .dataframe thead th {\n",
       "        text-align: right;\n",
       "    }\n",
       "</style>\n",
       "<table border=\"1\" class=\"dataframe\">\n",
       "  <thead>\n",
       "    <tr style=\"text-align: right;\">\n",
       "      <th></th>\n",
       "      <th>features</th>\n",
       "      <th>score</th>\n",
       "    </tr>\n",
       "  </thead>\n",
       "  <tbody>\n",
       "    <tr>\n",
       "      <th>19</th>\n",
       "      <td>duration</td>\n",
       "      <td>0.451073</td>\n",
       "    </tr>\n",
       "    <tr>\n",
       "      <th>20</th>\n",
       "      <td>age_lastyear</td>\n",
       "      <td>0.109643</td>\n",
       "    </tr>\n",
       "    <tr>\n",
       "      <th>26</th>\n",
       "      <td>total_income</td>\n",
       "      <td>0.091913</td>\n",
       "    </tr>\n",
       "    <tr>\n",
       "      <th>25</th>\n",
       "      <td>nonwork_income</td>\n",
       "      <td>0.088892</td>\n",
       "    </tr>\n",
       "    <tr>\n",
       "      <th>24</th>\n",
       "      <td>work_income</td>\n",
       "      <td>0.077240</td>\n",
       "    </tr>\n",
       "    <tr>\n",
       "      <th>2</th>\n",
       "      <td>JC</td>\n",
       "      <td>0.042086</td>\n",
       "    </tr>\n",
       "  </tbody>\n",
       "</table>\n",
       "</div>"
      ],
      "text/plain": [
       "          features     score\n",
       "19        duration  0.451073\n",
       "20    age_lastyear  0.109643\n",
       "26    total_income  0.091913\n",
       "25  nonwork_income  0.088892\n",
       "24     work_income  0.077240\n",
       "2              JC   0.042086"
      ]
     },
     "execution_count": 20,
     "metadata": {},
     "output_type": "execute_result"
    }
   ],
   "source": [
    "# 6.1 What are the top 6 important features from the model?\n",
    "gb_imp_score = pd.DataFrame({\n",
    "    \"features\" : X_train.columns,\n",
    "    \"score\" : best_gb.feature_importances_})\n",
    "gb_imp_score.sort_values(\"score\", ascending = False).head(6)"
   ]
  },
  {
   "cell_type": "code",
   "execution_count": 21,
   "id": "be31cbe1",
   "metadata": {},
   "outputs": [],
   "source": [
    "feature_list = gb_imp_score.sort_values(\"score\", ascending = False).head(6)[\"features\"].values.tolist()"
   ]
  },
  {
   "cell_type": "code",
   "execution_count": 22,
   "id": "c6973e2c",
   "metadata": {},
   "outputs": [
    {
     "data": {
      "image/png": "[encoded data removed]",
      "text/plain": [
       "<Figure size 1080x720 with 7 Axes>"
      ]
     },
     "metadata": {
      "needs_background": "light"
     },
     "output_type": "display_data"
    }
   ],
   "source": [
    "# 6.2 PDP plots\n",
    "# Generate pdp plots to each of the top 6 important features\n",
    "# customized code below to show PDP plots\n",
    "figure = plt.figure(figsize = (15, 10))\n",
    "ax = figure.add_subplot(1,1,1)\n",
    "PartialDependenceDisplay.from_estimator(best_gb, pd.concat([X_test, X_train]),feature_list, ax =ax) \n",
    "plt.savefig(\"figures/PDPs.pdf\")"
   ]
  },
  {
   "cell_type": "code",
   "execution_count": 23,
   "id": "c302d6c5",
   "metadata": {},
   "outputs": [
    {
     "data": {
      "text/plain": [
       "Index(['FC ', 'OT ', 'JC ', 'E  ', 'A  ', 'D  ', 'I  ', 'FJ ', 'IE ', 'F  ',\n",
       "       'FA ', 'B  ', 'AC ', ' C ', 'IC ', 'AH ', ' E ', 'JF ', 'EF ',\n",
       "       'duration', 'age_lastyear', 'HHSIZE', 'num_kids_lastyear', 'novehicle',\n",
       "       'work_income', 'nonwork_income', 'total_income', 'GENDER_M'],\n",
       "      dtype='object')"
      ]
     },
     "execution_count": 23,
     "metadata": {},
     "output_type": "execute_result"
    }
   ],
   "source": [
    "# 6.3 Interactions\n",
    "# Please examine if there is any interations among the top 6 important features in the model using the contour PDP plots. You don't have to exhaust all combinations, but just a couple that you believe may have interactions.\n",
    "X_train.columns"
   ]
  },
  {
   "cell_type": "code",
   "execution_count": 24,
   "id": "6e303d79",
   "metadata": {
    "scrolled": true
   },
   "outputs": [
    {
     "name": "stdout",
     "output_type": "stream",
     "text": [
      "0 FC \n",
      "1 OT \n",
      "2 JC \n",
      "3 E  \n",
      "4 A  \n",
      "5 D  \n",
      "6 I  \n",
      "7 FJ \n",
      "8 IE \n",
      "9 F  \n",
      "10 FA \n",
      "11 B  \n",
      "12 AC \n",
      "13  C \n",
      "14 IC \n",
      "15 AH \n",
      "16  E \n",
      "17 JF \n",
      "18 EF \n",
      "19 duration\n",
      "20 age_lastyear\n",
      "21 HHSIZE\n",
      "22 num_kids_lastyear\n",
      "23 novehicle\n",
      "24 work_income\n",
      "25 nonwork_income\n",
      "26 total_income\n",
      "27 GENDER_M\n"
     ]
    }
   ],
   "source": [
    "for idx, feature in enumerate(X_train.columns):\n",
    "    print (idx, feature)"
   ]
  },
  {
   "cell_type": "code",
   "execution_count": 25,
   "id": "bb7601cc",
   "metadata": {
    "scrolled": true
   },
   "outputs": [
    {
     "name": "stderr",
     "output_type": "stream",
     "text": [
      "/Library/Frameworks/Python.framework/Versions/3.9/lib/python3.9/site-packages/sklearn/utils/deprecation.py:87: FutureWarning: Function plot_partial_dependence is deprecated; Function `plot_partial_dependence` is deprecated in 1.0 and will be removed in 1.2. Use PartialDependenceDisplay.from_estimator instead\n",
      "  warnings.warn(msg, category=FutureWarning)\n"
     ]
    },
    {
     "data": {
      "image/png": "[encoded data removed]",
      "text/plain": [
       "<Figure size 432x288 with 2 Axes>"
      ]
     },
     "metadata": {
      "needs_background": "light"
     },
     "output_type": "display_data"
    }
   ],
   "source": [
    "# customized code to show interaction plots, add cells below to explore more combinations\n",
    "plot_partial_dependence (best_gb, pd.concat([X_test, X_train]), [(24,19 )],\n",
    "                                  feature_names=X_train.columns)\n",
    "plt.savefig(\"figures/Interactions_duration+num_kids_lastyear.pdf\")"
   ]
  },
  {
   "cell_type": "code",
   "execution_count": 26,
   "id": "31de98b5",
   "metadata": {},
   "outputs": [
    {
     "name": "stderr",
     "output_type": "stream",
     "text": [
      "/Library/Frameworks/Python.framework/Versions/3.9/lib/python3.9/site-packages/sklearn/utils/deprecation.py:87: FutureWarning: Function plot_partial_dependence is deprecated; Function `plot_partial_dependence` is deprecated in 1.0 and will be removed in 1.2. Use PartialDependenceDisplay.from_estimator instead\n",
      "  warnings.warn(msg, category=FutureWarning)\n"
     ]
    },
    {
     "data": {
      "image/png": "[encoded data removed]",
      "text/plain": [
       "<Figure size 432x288 with 2 Axes>"
      ]
     },
     "metadata": {
      "needs_background": "light"
     },
     "output_type": "display_data"
    }
   ],
   "source": [
    "# customized code  to show interaction plots, add cells below to explore more combinations\n",
    "plot_partial_dependence (best_gb, pd.concat([X_test, X_train]), [(23, 19)],\n",
    "                                  feature_names=X_train.columns)\n",
    "plt.savefig(\"figures/Interactions_duration+novehicle.pdf\")"
   ]
  }
 ],
 "metadata": {
  "kernelspec": {
   "display_name": "Python 3 (ipykernel)",
   "language": "python",
   "name": "python3"
  },
  "language_info": {
   "codemirror_mode": {
    "name": "ipython",
    "version": 3
   },
   "file_extension": ".py",
   "mimetype": "text/x-python",
   "name": "python",
   "nbconvert_exporter": "python",
   "pygments_lexer": "ipython3",
   "version": "3.9.7"
  }
 },
 "nbformat": 4,
 "nbformat_minor": 5
}
